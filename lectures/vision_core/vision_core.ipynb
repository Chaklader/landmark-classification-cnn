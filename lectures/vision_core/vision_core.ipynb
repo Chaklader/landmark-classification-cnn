{
 "cells": [
  {
   "cell_type": "markdown",
   "id": "b4e165a8",
   "metadata": {},
   "source": [
    "Hello World"
   ]
  }
 ],
 "metadata": {
  "language_info": {
   "name": "python"
  }
 },
 "nbformat": 4,
 "nbformat_minor": 5
}
